{
  "nbformat": 4,
  "nbformat_minor": 0,
  "metadata": {
    "colab": {
      "provenance": [],
      "authorship_tag": "ABX9TyM9SC9c8n0M68LdCrQP909b",
      "include_colab_link": true
    },
    "kernelspec": {
      "name": "python3",
      "display_name": "Python 3"
    },
    "language_info": {
      "name": "python"
    }
  },
  "cells": [
    {
      "cell_type": "markdown",
      "metadata": {
        "id": "view-in-github",
        "colab_type": "text"
      },
      "source": [
        "<a href=\"https://colab.research.google.com/github/varun-beep/NLP_LAB/blob/main/chatbot.ipynb\" target=\"_parent\"><img src=\"https://colab.research.google.com/assets/colab-badge.svg\" alt=\"Open In Colab\"/></a>"
      ]
    },
    {
      "cell_type": "code",
      "execution_count": 1,
      "metadata": {
        "id": "2ST_h6_tDiSb"
      },
      "outputs": [],
      "source": [
        "import random\n",
        "import nltk\n",
        "from nltk.tokenize import word_tokenize\n",
        "from nltk.corpus import stopwords\n",
        "from sklearn.feature_extraction.text import TfidfVectorizer\n",
        "from sklearn.naive_bayes import MultinomialNB\n",
        "from sklearn.pipeline import make_pipeline\n",
        "import spacy"
      ]
    },
    {
      "cell_type": "code",
      "source": [
        "# Sample Football Knowledge Base (Training Data)\n",
        "data = {\n",
        "    \"Which team won the last World Cup?\": \"Argentina won the 2022 FIFA World Cup.\",\n",
        "    \"Who is the top goal scorer of all time?\": \"Cristiano Ronaldo holds the record for most international goals.\",\n",
        "    \"Tell me about Lionel Messi\": \"Lionel Messi is an Argentine footballer who has won multiple Ballon d'Or awards.\",\n",
        "    \"Which club has won the most Champions League titles?\": \"Real Madrid holds the record for most UEFA Champions League titles.\",\n",
        "    \"Who won the last Ballon d'Or?\": \"Lionel Messi won the 2023 Ballon d'Or.\",\n",
        "    \"What is the offside rule?\": \"A player is offside if they are nearer to the opponent's goal line than both the ball and the second-last opponent when the ball is played to them.\"\n",
        "}\n"
      ],
      "metadata": {
        "id": "TOesf9nbEUTG"
      },
      "execution_count": 2,
      "outputs": []
    },
    {
      "cell_type": "code",
      "source": [
        "# Preprocessing & Training Model\n",
        "vectorizer = TfidfVectorizer()\n",
        "X = vectorizer.fit_transform(data.keys())\n",
        "model = MultinomialNB()\n",
        "model.fit(X, list(data.values()))\n",
        "\n",
        "# Chatbot Function\n",
        "def football_chatbot():\n",
        "    print(\"Football Chatbot: Hello! Ask me anything about football.\")\n",
        "    while True:\n",
        "        user_input = input(\"You: \")\n",
        "        if user_input.lower() in ['exit', 'quit', 'bye']:\n",
        "            print(\"Football Chatbot: Goodbye!\")\n",
        "            break\n",
        "        user_vector = vectorizer.transform([user_input])\n",
        "        response = model.predict(user_vector)[0]\n",
        "        print(\"Football Chatbot:\", response)\n",
        "\n",
        "# Run Chatbot\n",
        "football_chatbot()"
      ],
      "metadata": {
        "colab": {
          "base_uri": "https://localhost:8080/"
        },
        "id": "HN-tOfsSEY-O",
        "outputId": "f1215ebf-3aa3-4d77-851f-7b4150b1a7a6"
      },
      "execution_count": null,
      "outputs": [
        {
          "output_type": "stream",
          "name": "stdout",
          "text": [
            "Football Chatbot: Hello! Ask me anything about football.\n",
            "You: who is doing good?\n",
            "Football Chatbot: Cristiano Ronaldo holds the record for most international goals.\n",
            "You: messi is better than him\n",
            "Football Chatbot: Lionel Messi is an Argentine footballer who has won multiple Ballon d'Or awards.\n"
          ]
        }
      ]
    }
  ]
}