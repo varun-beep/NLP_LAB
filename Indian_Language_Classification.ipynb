{
  "nbformat": 4,
  "nbformat_minor": 0,
  "metadata": {
    "colab": {
      "provenance": [],
      "authorship_tag": "ABX9TyMazbq6Jtv8aWk4h0M6f6H2",
      "include_colab_link": true
    },
    "kernelspec": {
      "name": "python3",
      "display_name": "Python 3"
    },
    "language_info": {
      "name": "python"
    }
  },
  "cells": [
    {
      "cell_type": "markdown",
      "metadata": {
        "id": "view-in-github",
        "colab_type": "text"
      },
      "source": [
        "<a href=\"https://colab.research.google.com/github/varun-beep/NLP_LAB/blob/main/Indian_Language_Classification.ipynb\" target=\"_parent\"><img src=\"https://colab.research.google.com/assets/colab-badge.svg\" alt=\"Open In Colab\"/></a>"
      ]
    },
    {
      "cell_type": "code",
      "source": [
        "# ✅ Import Required Libraries\n",
        "import pandas as pd\n",
        "import numpy as np\n",
        "import re\n",
        "import nltk\n",
        "import seaborn as sns\n",
        "import matplotlib.pyplot as plt\n",
        "from sklearn.model_selection import train_test_split\n",
        "from sklearn.feature_extraction.text import TfidfVectorizer\n",
        "from sklearn.linear_model import LogisticRegression\n",
        "from sklearn.metrics import accuracy_score, classification_report\n",
        "from nltk.corpus import stopwords\n",
        "from nltk.tokenize import word_tokenize\n",
        "\n",
        "# ✅ Download NLTK Resources\n",
        "nltk.download('punkt')\n",
        "nltk.download('stopwords')\n",
        "\n",
        "# ✅ Manually Define a Small Dataset\n",
        "data = {\n",
        "    \"text\": [\n",
        "        \"यह एक हिंदी वाक्य है।\",\n",
        "        \"தமிழ் ஒரு அழகான மொழி.\",\n",
        "        \"বাংলা ভাষা খুব মিষ্টি।\",\n",
        "        \"This is an English sentence.\",\n",
        "        \"ಕನ್ನಡ ತುಂಬಾ ಸೊಗಸಾದ ಭಾಷೆ.\"\n",
        "    ],\n",
        "    \"language\": [\"Hindi\", \"Tamil\", \"Bengali\", \"English\", \"Kannada\"]\n",
        "}\n",
        "\n",
        "# ✅ Convert to DataFrame\n",
        "df = pd.DataFrame(data)\n",
        "\n",
        "# ✅ Preprocess Text (Lowercase, Remove Punctuation, Stopwords)\n",
        "stop_words = set(stopwords.words('english'))  # Using English stopwords\n",
        "\n",
        "def preprocess_text(text):\n",
        "    text = text.lower()  # Convert to lowercase\n",
        "    text = re.sub(r'[^\\w\\s]', '', text)  # Remove punctuation\n",
        "    tokens = word_tokenize(text)  # Tokenization\n",
        "    tokens = [word for word in tokens if word not in stop_words]  # Remove stopwords\n",
        "    return \" \".join(tokens)\n",
        "\n",
        "df[\"cleaned_text\"] = df[\"text\"].apply(preprocess_text)\n",
        "\n",
        "# ✅ TF-IDF Vectorization\n",
        "vectorizer = TfidfVectorizer()\n",
        "X = vectorizer.fit_transform(df[\"cleaned_text\"])\n",
        "y = df[\"language\"]\n",
        "\n",
        "# ✅ Train-Test Split\n",
        "X_train, X_test, y_train, y_test = train_test_split(X, y, test_size=0.2, random_state=42)\n",
        "\n",
        "# ✅ Train Logistic Regression Model\n",
        "model = LogisticRegression()\n",
        "model.fit(X_train, y_train)\n",
        "\n",
        "# ✅ Make Predictions\n",
        "y_pred = model.predict(X_test)\n",
        "\n",
        "# ✅ Model Evaluation\n",
        "accuracy = accuracy_score(y_test, y_pred)\n",
        "print(\"\\n✅ Model Accuracy:\", accuracy)\n",
        "print(\"\\n✅ Classification Report:\\n\", classification_report(y_test, y_pred))\n",
        "\n",
        "# ✅ Visualizing Data Distribution\n",
        "sns.countplot(y=df['language'], order=df['language'].value_counts().index, palette=\"coolwarm\")\n",
        "plt.title(\"Language Distribution\")\n",
        "plt.show()\n"
      ],
      "metadata": {
        "colab": {
          "base_uri": "https://localhost:8080/",
          "height": 1000
        },
        "id": "iX33jk3OGg73",
        "outputId": "8b756e7c-4e95-43fa-9fbc-8314a61abf5a"
      },
      "execution_count": 11,
      "outputs": [
        {
          "output_type": "stream",
          "name": "stderr",
          "text": [
            "[nltk_data] Downloading package punkt to /root/nltk_data...\n",
            "[nltk_data]   Package punkt is already up-to-date!\n",
            "[nltk_data] Downloading package stopwords to /root/nltk_data...\n",
            "[nltk_data]   Package stopwords is already up-to-date!\n",
            "/usr/local/lib/python3.11/dist-packages/sklearn/metrics/_classification.py:1565: UndefinedMetricWarning: Precision is ill-defined and being set to 0.0 in labels with no predicted samples. Use `zero_division` parameter to control this behavior.\n",
            "  _warn_prf(average, modifier, f\"{metric.capitalize()} is\", len(result))\n",
            "/usr/local/lib/python3.11/dist-packages/sklearn/metrics/_classification.py:1565: UndefinedMetricWarning: Recall is ill-defined and being set to 0.0 in labels with no true samples. Use `zero_division` parameter to control this behavior.\n",
            "  _warn_prf(average, modifier, f\"{metric.capitalize()} is\", len(result))\n",
            "/usr/local/lib/python3.11/dist-packages/sklearn/metrics/_classification.py:1565: UndefinedMetricWarning: Precision is ill-defined and being set to 0.0 in labels with no predicted samples. Use `zero_division` parameter to control this behavior.\n",
            "  _warn_prf(average, modifier, f\"{metric.capitalize()} is\", len(result))\n",
            "/usr/local/lib/python3.11/dist-packages/sklearn/metrics/_classification.py:1565: UndefinedMetricWarning: Recall is ill-defined and being set to 0.0 in labels with no true samples. Use `zero_division` parameter to control this behavior.\n",
            "  _warn_prf(average, modifier, f\"{metric.capitalize()} is\", len(result))\n",
            "/usr/local/lib/python3.11/dist-packages/sklearn/metrics/_classification.py:1565: UndefinedMetricWarning: Precision is ill-defined and being set to 0.0 in labels with no predicted samples. Use `zero_division` parameter to control this behavior.\n",
            "  _warn_prf(average, modifier, f\"{metric.capitalize()} is\", len(result))\n",
            "/usr/local/lib/python3.11/dist-packages/sklearn/metrics/_classification.py:1565: UndefinedMetricWarning: Recall is ill-defined and being set to 0.0 in labels with no true samples. Use `zero_division` parameter to control this behavior.\n",
            "  _warn_prf(average, modifier, f\"{metric.capitalize()} is\", len(result))\n",
            "<ipython-input-11-8d8010ae6e9b>:67: FutureWarning: \n",
            "\n",
            "Passing `palette` without assigning `hue` is deprecated and will be removed in v0.14.0. Assign the `y` variable to `hue` and set `legend=False` for the same effect.\n",
            "\n",
            "  sns.countplot(y=df['language'], order=df['language'].value_counts().index, palette=\"coolwarm\")\n"
          ]
        },
        {
          "output_type": "stream",
          "name": "stdout",
          "text": [
            "\n",
            "✅ Model Accuracy: 0.0\n",
            "\n",
            "✅ Classification Report:\n",
            "               precision    recall  f1-score   support\n",
            "\n",
            "     English       0.00      0.00      0.00       0.0\n",
            "       Tamil       0.00      0.00      0.00       1.0\n",
            "\n",
            "    accuracy                           0.00       1.0\n",
            "   macro avg       0.00      0.00      0.00       1.0\n",
            "weighted avg       0.00      0.00      0.00       1.0\n",
            "\n"
          ]
        },
        {
          "output_type": "display_data",
          "data": {
            "text/plain": [
              "<Figure size 640x480 with 1 Axes>"
            ],
            "image/png": "[encoded data removed]"
          },
          "metadata": {}
        }
      ]
    },
    {
      "cell_type": "code",
      "source": [
        "# ✅ Import Required Libraries\n",
        "import pandas as pd\n",
        "import numpy as np\n",
        "import re\n",
        "import nltk\n",
        "import seaborn as sns\n",
        "import matplotlib.pyplot as plt\n",
        "from sklearn.model_selection import train_test_split\n",
        "from sklearn.feature_extraction.text import TfidfVectorizer\n",
        "from sklearn.naive_bayes import MultinomialNB  # Naïve Bayes works better for small text data\n",
        "from sklearn.metrics import accuracy_score, classification_report\n",
        "from nltk.tokenize import word_tokenize\n",
        "\n",
        "# ✅ Download NLTK Resources\n",
        "nltk.download('punkt')\n",
        "\n",
        "# ✅ Define a Larger Dataset\n",
        "data = {\n",
        "    \"text\": [\n",
        "        \"यह एक हिंदी वाक्य है।\", \"मुझे किताबें पढ़ना पसंद है।\", \"हिंदी मेरी मातृभाषा है।\",\n",
        "        \"தமிழ் ஒரு அழகான மொழி.\", \"நான் தமிழில் பேசுகிறேன்.\", \"தமிழ் எழுத்துக்கள் மிகவும் தனித்துவமானவை.\",\n",
        "        \"বাংলা ভাষা খুব মিষ্টি।\", \"আমি বাংলা ভাষায় কথা বলি।\", \"বাংলা আমার প্রিয় ভাষা।\",\n",
        "        \"This is an English sentence.\", \"I love reading books.\", \"English is a widely spoken language.\",\n",
        "        \"ಕನ್ನಡ ತುಂಬಾ ಸೊಗಸಾದ ಭಾಷೆ.\", \"ನಾನು ಕನ್ನಡದಲ್ಲಿ ಮಾತನಾಡುತ್ತೇನೆ.\", \"ಕನ್ನಡ ನನ್ನ ತಾಯಿಯ ಭಾಷೆ.\"\n",
        "    ],\n",
        "    \"language\": [\"Hindi\", \"Hindi\", \"Hindi\", \"Tamil\", \"Tamil\", \"Tamil\",\n",
        "                 \"Bengali\", \"Bengali\", \"Bengali\", \"English\", \"English\", \"English\",\n",
        "                 \"Kannada\", \"Kannada\", \"Kannada\"]\n",
        "}\n",
        "\n",
        "# ✅ Convert to DataFrame\n",
        "df = pd.DataFrame(data)\n",
        "\n",
        "# ✅ Preprocess Text (Lowercase, Remove Punctuation, Tokenization)\n",
        "def preprocess_text(text):\n",
        "    text = text.lower()  # Convert to lowercase\n",
        "    text = re.sub(r'[^\\w\\s]', '', text)  # Remove punctuation\n",
        "    tokens = word_tokenize(text)  # Tokenization\n",
        "    return \" \".join(tokens)\n",
        "\n",
        "df[\"cleaned_text\"] = df[\"text\"].apply(preprocess_text)\n",
        "\n",
        "# ✅ TF-IDF Vectorization\n",
        "vectorizer = TfidfVectorizer()\n",
        "X = vectorizer.fit_transform(df[\"cleaned_text\"])\n",
        "y = df[\"language\"]\n",
        "\n",
        "# ✅ Train-Test Split (Stratified to Ensure Balance)\n",
        "X_train, X_test, y_train, y_test = train_test_split(X, y, test_size=0.3, random_state=42, stratify=y)\n",
        "\n",
        "# ✅ Train Naïve Bayes Classifier\n",
        "model = MultinomialNB()\n",
        "model.fit(X_train, y_train)\n",
        "\n",
        "# ✅ Make Predictions\n",
        "y_pred = model.predict(X_test)\n",
        "\n",
        "# ✅ Model Evaluation\n",
        "accuracy = accuracy_score(y_test, y_pred)\n",
        "print(\"\\n✅ Model Accuracy:\", accuracy)\n",
        "print(\"\\n✅ Classification Report:\\n\", classification_report(y_test, y_pred))\n",
        "\n",
        "# ✅ Visualizing Data Distribution\n",
        "sns.countplot(y=df['language'], order=df['language'].value_counts().index, palette=\"coolwarm\")\n",
        "plt.title(\"Language Distribution\")\n",
        "plt.show()"
      ],
      "metadata": {
        "colab": {
          "base_uri": "https://localhost:8080/",
          "height": 883
        },
        "id": "3e4_BckLHnpq",
        "outputId": "3ead34c2-034e-44b3-cc9d-4dc09cf1b526"
      },
      "execution_count": 12,
      "outputs": [
        {
          "output_type": "stream",
          "name": "stdout",
          "text": [
            "\n",
            "✅ Model Accuracy: 1.0\n",
            "\n",
            "✅ Classification Report:\n",
            "               precision    recall  f1-score   support\n",
            "\n",
            "     Bengali       1.00      1.00      1.00         1\n",
            "     English       1.00      1.00      1.00         1\n",
            "       Hindi       1.00      1.00      1.00         1\n",
            "     Kannada       1.00      1.00      1.00         1\n",
            "       Tamil       1.00      1.00      1.00         1\n",
            "\n",
            "    accuracy                           1.00         5\n",
            "   macro avg       1.00      1.00      1.00         5\n",
            "weighted avg       1.00      1.00      1.00         5\n",
            "\n"
          ]
        },
        {
          "output_type": "stream",
          "name": "stderr",
          "text": [
            "[nltk_data] Downloading package punkt to /root/nltk_data...\n",
            "[nltk_data]   Package punkt is already up-to-date!\n",
            "<ipython-input-12-b6bdd866b2ca>:64: FutureWarning: \n",
            "\n",
            "Passing `palette` without assigning `hue` is deprecated and will be removed in v0.14.0. Assign the `y` variable to `hue` and set `legend=False` for the same effect.\n",
            "\n",
            "  sns.countplot(y=df['language'], order=df['language'].value_counts().index, palette=\"coolwarm\")\n"
          ]
        },
        {
          "output_type": "display_data",
          "data": {
            "text/plain": [
              "<Figure size 640x480 with 1 Axes>"
            ],
            "image/png": "[encoded data removed]"
          },
          "metadata": {}
        }
      ]
    },
    {
      "cell_type": "code",
      "source": [],
      "metadata": {
        "id": "nY9u_m0XIzSg"
      },
      "execution_count": null,
      "outputs": []
    }
  ]
}